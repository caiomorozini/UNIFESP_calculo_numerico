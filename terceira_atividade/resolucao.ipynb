{
 "cells": [
  {
   "cell_type": "code",
   "execution_count": 1,
   "metadata": {},
   "outputs": [],
   "source": [
    "import math"
   ]
  },
  {
   "cell_type": "code",
   "execution_count": 2,
   "metadata": {},
   "outputs": [],
   "source": [
    "def f(x):\n",
    "    return 2* math.cos(x/2)"
   ]
  },
  {
   "cell_type": "code",
   "execution_count": null,
   "metadata": {},
   "outputs": [],
   "source": [
    "def trapezoidal_rule_repeated(\n",
    "    a: float,\n",
    "    b: float,\n",
    "    n: int,\n",
    "    tolerancia: float\n",
    "    ) -> float:\n",
    "  \"\"\"\n",
    "  Calcula a integral definida de uma função usando a repetição da regra do trapézio.\n",
    "\n",
    "  Parameters:\n",
    "    a (float) - limite inferior da integral\n",
    "    b (float) - limite superior da integral\n",
    "    n (int) - o número de subintervalos usados na primeira\n",
    "        aplicação da regra do trapézio\n",
    "    tolerancia (float) - a tolerância para o erro da aproximação da integral\n",
    "  \"\"\"\n",
    "  h = (b - a) / n\n",
    "  old_approximation = 0\n",
    "  new_approximation = h * (f(a) + f(b)) / 2\n",
    "\n",
    "  while abs(new_approximation - old_approximation) > tolerancia:\n",
    "    old_approximation = new_approximation\n",
    "    new_approximation = 0\n",
    "\n",
    "    for i in range(1, n):\n",
    "      x = a + i * h\n",
    "      new_approximation += f(x)\n",
    "\n",
    "    new_approximation = h * (new_approximation + (f(a) + f(b)) / 2)\n",
    "    n *= 2\n",
    "    h /= 2\n",
    "\n",
    "  return new_approximation\n",
    "\n",
    "\n"
   ]
  },
  {
   "cell_type": "code",
   "execution_count": null,
   "metadata": {},
   "outputs": [],
   "source": [
    "a = 0\n",
    "b = math.pi / 2\n",
    "n = 2\n",
    "tolerancia = 1e-6\n",
    "result = trapezoidal_rule_repeated(a, b, n, tolerancia)\n",
    "print(result)"
   ]
  }
 ],
 "metadata": {
  "kernelspec": {
   "display_name": "Python 3",
   "language": "python",
   "name": "python3"
  },
  "language_info": {
   "codemirror_mode": {
    "name": "ipython",
    "version": 3
   },
   "file_extension": ".py",
   "mimetype": "text/x-python",
   "name": "python",
   "nbconvert_exporter": "python",
   "pygments_lexer": "ipython3",
   "version": "3.10.9"
  },
  "orig_nbformat": 4,
  "vscode": {
   "interpreter": {
    "hash": "6a2dc2ec1449d5e67ab48d4d81fc30d299b9deafb45576b2394cd58e3cc4f812"
   }
  }
 },
 "nbformat": 4,
 "nbformat_minor": 2
}
