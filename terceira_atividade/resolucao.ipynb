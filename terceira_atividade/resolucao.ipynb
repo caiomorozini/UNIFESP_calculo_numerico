{
 "cells": [
  {
   "cell_type": "code",
   "execution_count": 1,
   "metadata": {},
   "outputs": [],
   "source": [
    "%%capture\n",
    "%pip install pandas\n"
   ]
  },
  {
   "cell_type": "code",
   "execution_count": 2,
   "metadata": {},
   "outputs": [],
   "source": [
    "import math\n",
    "import pandas as pd"
   ]
  },
  {
   "attachments": {},
   "cell_type": "markdown",
   "metadata": {},
   "source": [
    "# <center>Problema 1\n",
    "---"
   ]
  },
  {
   "attachments": {},
   "cell_type": "markdown",
   "metadata": {},
   "source": [
    "## Questão a"
   ]
  },
  {
   "cell_type": "code",
   "execution_count": 3,
   "metadata": {},
   "outputs": [],
   "source": [
    "def f(x):\n",
    "    \"\"\" Função f(x) = 2cos(x/2)\"\"\"\n",
    "    return 2 * math.cos(x/2)"
   ]
  },
  {
   "attachments": {},
   "cell_type": "markdown",
   "metadata": {},
   "source": [
    "Para aplicar a regra dos trapézios repetida neste caso, precisamos primeiro dividir o intervalo [0, pi/2] em n subintervalos de tamanho h. Em seguida, usamos a regra dos trapézios para calcular aproximações do volume de cada um dos trapézóides gerados pela rotação da região R ao redor do eixo x. Finalmente, somamos as aproximações individuais para obter o valor aproximado total do volume.\n",
    "\n",
    "A fórmula para a regra dos trapézios é dada por:\n",
    "\n",
    "<center>V ≈ h/2 * (f(x0) + 2f(x1) + 2f(x2) + ... + 2*f(xn-1) + f(xn)) </center>\n",
    "\n",
    "Onde x0, x1, x2, ..., xn são os n+1 pontos de interpolação dividindo o intervalo [0, pi/2] em n subintervalos de tamanho h.\n"
   ]
  },
  {
   "cell_type": "code",
   "execution_count": 28,
   "metadata": {},
   "outputs": [],
   "source": [
    "def regra_trapezios_repetidas(\n",
    "        a: float,\n",
    "        b: float,\n",
    "        n: int,\n",
    "        ) -> float:\n",
    "    \"\"\"\n",
    "    Calcula a integral definida de uma função usando a repetição da regra do trapézio.\n",
    "\n",
    "    Parameters:\n",
    "        a (float) - limite inferior da integral\n",
    "        b (float) - limite superior da integral\n",
    "        n (int) - o número de subintervalos usados na primeira\n",
    "            aplicação da regra do trapézio\n",
    "    \"\"\"\n",
    "    # Calculando o tamanho dos subintervalos\n",
    "    h = (b - a) / n\n",
    "    # Inicializando a primeira aproximação\n",
    "    aproximacao_anterior = 0\n",
    "    # Calculando a primeira aproximação\n",
    "    nova_aproximacao = h * (f(a) + f(b)) / 2\n",
    "\n",
    "    # Repetindo a regra do trapézio até que a tolerância seja atingida\n",
    "    while True:\n",
    "        # Atualizando as aproximações\n",
    "        aproximacao_anterior = nova_aproximacao\n",
    "        # Inicializando a nova aproximação\n",
    "        nova_aproximacao = 0\n",
    "        # Calculando a nova aproximação\n",
    "        for i in range(1, n):\n",
    "            # Calculando o valor de x\n",
    "            x = a + i * h\n",
    "            # Somando o valor de f(x) à nova aproximação\n",
    "            nova_aproximacao += f(x)\n",
    "\n",
    "        # Multiplicando o valor de h por 1/2 e somando à nova aproximação\n",
    "        nova_aproximacao = h * (nova_aproximacao + (f(a) + f(b)) / 2)\n",
    "        # Dobrando o valor de n\n",
    "        n *= 2\n",
    "        # Dividindo o valor de h por 2\n",
    "        h /= 2\n",
    "        if aproximacao_anterior - nova_aproximacao < 0.0000000000000001:\n",
    "            break\n",
    "\n",
    "    return nova_aproximacao\n",
    "\n",
    "\n"
   ]
  },
  {
   "cell_type": "code",
   "execution_count": 31,
   "metadata": {},
   "outputs": [
    {
     "data": {
      "text/plain": [
       "2.8269730452064508"
      ]
     },
     "execution_count": 31,
     "metadata": {},
     "output_type": "execute_result"
    }
   ],
   "source": [
    "# Calculando a integral definida de f(x) = 2cos(x/2) no intervalo [0, pi/2]\n",
    "regra_trapezios_repetidas(0, math.pi / 2, 3)\n"
   ]
  },
  {
   "attachments": {},
   "cell_type": "markdown",
   "metadata": {},
   "source": [
    "### Gerando tabela para n=2,3,4,...,10,11,12"
   ]
  },
  {
   "cell_type": "code",
   "execution_count": 32,
   "metadata": {},
   "outputs": [
    {
     "data": {
      "text/html": [
       "<div>\n",
       "<style scoped>\n",
       "    .dataframe tbody tr th:only-of-type {\n",
       "        vertical-align: middle;\n",
       "    }\n",
       "\n",
       "    .dataframe tbody tr th {\n",
       "        vertical-align: top;\n",
       "    }\n",
       "\n",
       "    .dataframe thead th {\n",
       "        text-align: right;\n",
       "    }\n",
       "</style>\n",
       "<table border=\"1\" class=\"dataframe\">\n",
       "  <thead>\n",
       "    <tr style=\"text-align: right;\">\n",
       "      <th></th>\n",
       "      <th>Regra do Trapézio</th>\n",
       "    </tr>\n",
       "  </thead>\n",
       "  <tbody>\n",
       "    <tr>\n",
       "      <th>2</th>\n",
       "      <td>2.791985</td>\n",
       "    </tr>\n",
       "    <tr>\n",
       "      <th>3</th>\n",
       "      <td>2.812254</td>\n",
       "    </tr>\n",
       "    <tr>\n",
       "      <th>4</th>\n",
       "      <td>2.819334</td>\n",
       "    </tr>\n",
       "    <tr>\n",
       "      <th>5</th>\n",
       "      <td>2.822609</td>\n",
       "    </tr>\n",
       "    <tr>\n",
       "      <th>6</th>\n",
       "      <td>2.824387</td>\n",
       "    </tr>\n",
       "    <tr>\n",
       "      <th>7</th>\n",
       "      <td>2.825459</td>\n",
       "    </tr>\n",
       "    <tr>\n",
       "      <th>8</th>\n",
       "      <td>2.826155</td>\n",
       "    </tr>\n",
       "    <tr>\n",
       "      <th>9</th>\n",
       "      <td>2.826632</td>\n",
       "    </tr>\n",
       "    <tr>\n",
       "      <th>10</th>\n",
       "      <td>2.826973</td>\n",
       "    </tr>\n",
       "    <tr>\n",
       "      <th>11</th>\n",
       "      <td>2.827225</td>\n",
       "    </tr>\n",
       "    <tr>\n",
       "      <th>12</th>\n",
       "      <td>2.827417</td>\n",
       "    </tr>\n",
       "  </tbody>\n",
       "</table>\n",
       "</div>"
      ],
      "text/plain": [
       "    Regra do Trapézio\n",
       "2            2.791985\n",
       "3            2.812254\n",
       "4            2.819334\n",
       "5            2.822609\n",
       "6            2.824387\n",
       "7            2.825459\n",
       "8            2.826155\n",
       "9            2.826632\n",
       "10           2.826973\n",
       "11           2.827225\n",
       "12           2.827417"
      ]
     },
     "execution_count": 32,
     "metadata": {},
     "output_type": "execute_result"
    }
   ],
   "source": [
    "a = 0\n",
    "b = math.pi / 2\n",
    "pd.DataFrame(\n",
    "    {\n",
    "        \"Regra do Trapézio\": [\n",
    "            regra_trapezios_repetidas(a, b, n) for n in range(2, 13)\n",
    "        ],\n",
    "\n",
    "    },\n",
    "    index = range(2, 13)\n",
    ")\n"
   ]
  },
  {
   "attachments": {},
   "cell_type": "markdown",
   "metadata": {},
   "source": [
    "---\n",
    "## Questão b"
   ]
  },
  {
   "attachments": {},
   "cell_type": "markdown",
   "metadata": {},
   "source": [
    "A regra de Simpson repetida é outro método de integração numérica que permite calcular aproximadamente o valor de uma integral definida de uma função em um determinado intervalo. Assim como a regra dos trapézios repetida, ela é aplicada várias vezes com subintervalos cada vez mais pequenos até que se atinja uma precisão desejada.\n",
    "A regra de Simpson é baseada na aproximação da curva da função por uma série de parábolas. O valor da integral é então aproximado pela soma das áreas das parábolas. Quanto mais parábolas forem usadas, mais precisa será a aproximação.\n",
    "A fórmula para a regra de Simpson é dada por:\n",
    "\n",
    "<center>V ≈ (h/3) * (f(x0) + 4f(x1) + 2f(x2) + 4f(x3) + 2f(x4) + ... + 4*f(xn-1) + f(xn))</center>\n",
    "\n",
    "Onde x0, x1, x2, ..., xn são os n+1 pontos de interpolação dividindo o intervalo [0, pi/2] em n subintervalos de tamanho h"
   ]
  },
  {
   "cell_type": "code",
   "execution_count": 6,
   "metadata": {},
   "outputs": [],
   "source": [
    "def regra_simpson_repetida(\n",
    "  a: float,\n",
    "  b: float,\n",
    "  n: int,\n",
    "  ):\n",
    "  \"\"\"\n",
    "  Calcula a integral definida de uma função\n",
    "  usando a repetição da regra de Simpson.\n",
    "  \"\"\"\n",
    "  # Calculando o tamanho dos subintervalos\n",
    "  h = (b - a) / n\n",
    "  # Inicializando a primeira aproximação\n",
    "  aproximacao_anterior = 0\n",
    "  # Calculando a primeira aproximação\n",
    "  nova_aproximacao = h * (f(a) + f(b)) / 3\n",
    "\n",
    "  # Repetindo a regra de Simpson até que a tolerância seja atingida\n",
    "  while abs(nova_aproximacao - aproximacao_anterior) > tol:\n",
    "    # Atualizando as aproximações\n",
    "    aproximacao_anterior = nova_aproximacao\n",
    "    # Inicializando a nova aproximação\n",
    "    nova_aproximacao = 0\n",
    "    # Calculando a nova aproximação\n",
    "    for i in range(1, n):\n",
    "      # Calculando o valor de x\n",
    "      x = a + i * h\n",
    "      # Somando o valor de f(x) à nova aproximação\n",
    "      if i % 2 == 0:\n",
    "        # Se i for par, multiplicamos f(x) por 2\n",
    "        nova_aproximacao += 2 * f(x)\n",
    "      else:\n",
    "        # Se i for ímpar, multiplicamos f(x) por 4\n",
    "        nova_aproximacao += 4 * f(x)\n",
    "    # Multiplicando o valor de h por 1/3 e somando à nova aproximação\n",
    "    nova_aproximacao = h * (nova_aproximacao + (f(a) + f(b))) / 3\n",
    "    # Dobrando o valor de n\n",
    "    n *= 2\n",
    "    # Dividindo o valor de h por 2\n",
    "    h /= 2\n",
    "\n",
    "  return nova_aproximacao"
   ]
  },
  {
   "cell_type": "code",
   "execution_count": 7,
   "metadata": {},
   "outputs": [
    {
     "data": {
      "text/plain": [
       "2.8284271304486643"
      ]
     },
     "execution_count": 7,
     "metadata": {},
     "output_type": "execute_result"
    }
   ],
   "source": [
    "# Calculando a integral definida de f(x) = 2cos(x/2) no intervalo [0, pi/2]\n",
    "regra_simpson_repetida(0, math.pi / 2, 2)\n"
   ]
  },
  {
   "attachments": {},
   "cell_type": "markdown",
   "metadata": {},
   "source": [
    "### Gerando tabela para n=2,4,6,8,10,12"
   ]
  },
  {
   "cell_type": "code",
   "execution_count": 17,
   "metadata": {},
   "outputs": [
    {
     "data": {
      "text/html": [
       "<div>\n",
       "<style scoped>\n",
       "    .dataframe tbody tr th:only-of-type {\n",
       "        vertical-align: middle;\n",
       "    }\n",
       "\n",
       "    .dataframe tbody tr th {\n",
       "        vertical-align: top;\n",
       "    }\n",
       "\n",
       "    .dataframe thead th {\n",
       "        text-align: right;\n",
       "    }\n",
       "</style>\n",
       "<table border=\"1\" class=\"dataframe\">\n",
       "  <thead>\n",
       "    <tr style=\"text-align: right;\">\n",
       "      <th></th>\n",
       "      <th>Regra de Simpson</th>\n",
       "    </tr>\n",
       "  </thead>\n",
       "  <tbody>\n",
       "    <tr>\n",
       "      <th>2</th>\n",
       "      <td>2.828427</td>\n",
       "    </tr>\n",
       "    <tr>\n",
       "      <th>4</th>\n",
       "      <td>2.828427</td>\n",
       "    </tr>\n",
       "    <tr>\n",
       "      <th>6</th>\n",
       "      <td>2.828427</td>\n",
       "    </tr>\n",
       "    <tr>\n",
       "      <th>8</th>\n",
       "      <td>2.828427</td>\n",
       "    </tr>\n",
       "    <tr>\n",
       "      <th>10</th>\n",
       "      <td>2.828427</td>\n",
       "    </tr>\n",
       "    <tr>\n",
       "      <th>12</th>\n",
       "      <td>2.828427</td>\n",
       "    </tr>\n",
       "  </tbody>\n",
       "</table>\n",
       "</div>"
      ],
      "text/plain": [
       "    Regra de Simpson\n",
       "2           2.828427\n",
       "4           2.828427\n",
       "6           2.828427\n",
       "8           2.828427\n",
       "10          2.828427\n",
       "12          2.828427"
      ]
     },
     "execution_count": 17,
     "metadata": {},
     "output_type": "execute_result"
    }
   ],
   "source": [
    "a = 0\n",
    "b = math.pi / 2\n",
    "pd.DataFrame(\n",
    "    {\n",
    "        \"Regra de Simpson\": [\n",
    "            regra_simpson_repetida(0, math.pi / 2, n) for n in range(2, 14, 2)\n",
    "        ]\n",
    "\n",
    "    },\n",
    "    index=range(2, 14, 2)\n",
    ")\n"
   ]
  },
  {
   "attachments": {},
   "cell_type": "markdown",
   "metadata": {},
   "source": [
    "---\n",
    "## Questão c"
   ]
  },
  {
   "attachments": {},
   "cell_type": "markdown",
   "metadata": {},
   "source": [
    "Para encontrar o número mínimo de subintervalos necessários para que o erro de aproximação da regra dos trapézios repetida seja menor que 10^(-6), podemos usar a fórmula de erro da regra dos trapézios:\n",
    "\n",
    "<center>Erro ≈ -(h^2) * (b-a) * f''(c) / 12</center>\n",
    "\n",
    "Onde h é o tamanho dos subintervalos, (b-a) é o intervalo de integração, e f''(c) é a segunda derivada da função em algum ponto c dentro do intervalo de integração.\n",
    "\n",
    "Como queremos que o erro seja menor que 10^(-6), podemos reescrever a equação como:\n",
    "\n",
    "<center> -(h^2) * (b-a) * f''(c) / 12 < 10^(-6) </center>\n",
    "\n",
    "Isolando h, temos:\n",
    "\n",
    "<center> h < sqrt(12 * 10^(-6) / ((b-a) * f''(c))) </center>"
   ]
  },
  {
   "cell_type": "code",
   "execution_count": 20,
   "metadata": {},
   "outputs": [],
   "source": [
    "def segunda_derivada(x):\n",
    "  return -math.cos(x/2)"
   ]
  },
  {
   "cell_type": "code",
   "execution_count": 21,
   "metadata": {},
   "outputs": [],
   "source": [
    "a = 0\n",
    "b = math.pi / 2\n",
    "tol = 1e-6\n",
    "n = 1\n",
    "\n",
    "while True:\n",
    "    # Calculando o tamanho dos subintervalos\n",
    "    h = (b - a) / n\n",
    "    # Calculando o ponto médio do intervalo\n",
    "    c = (b + a) / 2\n",
    "    # Calculando o erro\n",
    "    error = -(h**2) * (b - a) * segunda_derivada(c) / 12\n",
    "    # Verificando se o erro é menor que a tolerância\n",
    "    if error < tol:\n",
    "        break\n",
    "    n += 1\n"
   ]
  },
  {
   "cell_type": "code",
   "execution_count": 22,
   "metadata": {},
   "outputs": [
    {
     "name": "stdout",
     "output_type": "stream",
     "text": [
      "O número de subintervalos é 547.\n"
     ]
    }
   ],
   "source": [
    "print(f\"O número de subintervalos é {n}.\")"
   ]
  },
  {
   "attachments": {},
   "cell_type": "markdown",
   "metadata": {},
   "source": [
    "---\n",
    "## Questão d"
   ]
  },
  {
   "cell_type": "code",
   "execution_count": 23,
   "metadata": {},
   "outputs": [
    {
     "data": {
      "text/plain": [
       "2.8284270032650465"
      ]
     },
     "execution_count": 23,
     "metadata": {},
     "output_type": "execute_result"
    }
   ],
   "source": [
    "# Calculando para o valor de n encontrado\n",
    "regra_trapezios_repetidas(0, math.pi / 2, n)\n"
   ]
  },
  {
   "cell_type": "code",
   "execution_count": null,
   "metadata": {},
   "outputs": [],
   "source": []
  }
 ],
 "metadata": {
  "kernelspec": {
   "display_name": "Python 3",
   "language": "python",
   "name": "python3"
  },
  "language_info": {
   "codemirror_mode": {
    "name": "ipython",
    "version": 3
   },
   "file_extension": ".py",
   "mimetype": "text/x-python",
   "name": "python",
   "nbconvert_exporter": "python",
   "pygments_lexer": "ipython3",
   "version": "3.10.9"
  },
  "orig_nbformat": 4,
  "vscode": {
   "interpreter": {
    "hash": "6a2dc2ec1449d5e67ab48d4d81fc30d299b9deafb45576b2394cd58e3cc4f812"
   }
  }
 },
 "nbformat": 4,
 "nbformat_minor": 2
}
