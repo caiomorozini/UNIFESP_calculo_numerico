{
 "cells": [
  {
   "cell_type": "markdown",
   "metadata": {},
   "source": [
    "Faça o seu gráfico utilizando recursos computacionais.\n",
    "• Aplique o código implementado do Método de Newton adotando os pontos iniciais indicados\n",
    "em cada caso, tomando ε = 10−8\n",
    "\n",
    "e maxit = 20 .\n",
    "\n",
    "• Imprima a tabela referente aos resultados de cada iteração, conforme as instruções.\n",
    "\n",
    "• A partir dos gráficos, de argumentos matemáticos e/ou dos resultados exibidos nas tabelas, ex-\n",
    "plique o comportamento do Método de Newton para cada ponto inicial dado."
   ]
  },
  {
   "cell_type": "code",
   "execution_count": 32,
   "metadata": {},
   "outputs": [],
   "source": [
    "import numpy as np\n",
    "import pandas as pd"
   ]
  },
  {
   "cell_type": "code",
   "execution_count": 8,
   "metadata": {},
   "outputs": [],
   "source": [
    "equation_one = lambda x: x*(np.exp(-x))\n",
    "\n",
    "equation_two = lambda x: x**3 - x - 3\n",
    "\n",
    "equation_three = lambda x: np.arctan(x)"
   ]
  },
  {
   "cell_type": "markdown",
   "metadata": {},
   "source": [
    "### Método da Bisseção"
   ]
  },
  {
   "cell_type": "code",
   "execution_count": 18,
   "metadata": {},
   "outputs": [],
   "source": [
    "MAXIT = 20\n",
    "TOL = 10**(-8)"
   ]
  },
  {
   "cell_type": "code",
   "execution_count": 19,
   "metadata": {},
   "outputs": [],
   "source": [
    "def newton_method(\n",
    "  f: callable,\n",
    "  f_linha: float,\n",
    "  x0: float,\n",
    "  maxit: int = MAXIT,\n",
    "  tol: float = TOL\n",
    "):\n",
    "  \"\"\" Método de Newton para encontrar raízes de funções\n",
    "\n",
    "  Args:\n",
    "    f (callable): função a ser analisada\n",
    "    f_linha (float): derivada da função\n",
    "    x0 (float): chute inicial\n",
    "    maxit (int, optional): número máximo de iterações. Defaults to MAXIT.\n",
    "    tol (float, optional): tolerância. Defaults to TOL.\n",
    "\n",
    "  Returns:\n",
    "    float: raiz da função\n",
    "  \"\"\"\n",
    "\n",
    "  x = x0\n",
    "  for i in range(maxit):\n",
    "    x = x - f(x)/f_linha(x)\n",
    "    if abs(f(x)) < tol:\n",
    "      return x\n",
    "  return x"
   ]
  },
  {
   "cell_type": "code",
   "execution_count": 20,
   "metadata": {},
   "outputs": [],
   "source": [
    "def bisseccao(\n",
    "  f: callable,\n",
    "  a: float,\n",
    "  b: float,\n",
    "  maxit: int = MAXIT,\n",
    "  tol: float = TOL\n",
    "):\n",
    "  \"\"\" Método da bisseccao para encontrar raízes de funções\n",
    "\n",
    "  Args:\n",
    "    f (callable): função a ser analisada\n",
    "    a (float):  limite inferior\n",
    "    b (float): limite superior\n",
    "    maxit (int, optional): número máximo de iterações. Defaults to MAXIT.\n",
    "    tol (float, optional): tolerância. Defaults to TOL.\n",
    "\n",
    "  Returns:\n",
    "    float: raiz da função\n",
    "  \"\"\"\n",
    "\n",
    "  for i in range(maxit):\n",
    "    x = (a + b)/2\n",
    "    if abs(f(x)) < tol:\n",
    "      return x\n",
    "    if f(a)*f(x) < 0:\n",
    "      b = x\n",
    "    else:\n",
    "      a = x\n",
    "  return x"
   ]
  },
  {
   "cell_type": "code",
   "execution_count": 53,
   "metadata": {},
   "outputs": [],
   "source": [
    "def secant_method(\n",
    "    f,\n",
    "    x0,\n",
    "    x02,\n",
    "    tol = TOL,\n",
    "    maxit=MAXIT\n",
    "):\n",
    "    \"\"\" Método da secante para encontrar raízes de funções\n",
    "\n",
    "    Args:\n",
    "        f (callable): função a ser analisada\n",
    "        x0 (float): chute inicial\n",
    "        x02 (float): chute inicial\n",
    "        tol (float, optional): tolerância. Defaults to TOL.\n",
    "        maxit (int, optional): número máximo de iterações. Defaults to MAXIT.\n",
    "\n",
    "    Returns:\n",
    "        float: raiz da função\n",
    "    \"\"\"\n",
    "    for i in range(maxit):\n",
    "        x = x0 - f(x0)*(x0-x02)/(f(x0)-f(x02))\n",
    "        if abs(f(x)) < tol:\n",
    "            return x\n",
    "        x02 = x0\n",
    "        x0 = x\n",
    "    return x\n"
   ]
  },
  {
   "cell_type": "code",
   "execution_count": null,
   "metadata": {},
   "outputs": [],
   "source": []
  },
  {
   "cell_type": "code",
   "execution_count": 34,
   "metadata": {},
   "outputs": [
    {
     "data": {
      "text/html": [
       "<div>\n",
       "<style scoped>\n",
       "    .dataframe tbody tr th:only-of-type {\n",
       "        vertical-align: middle;\n",
       "    }\n",
       "\n",
       "    .dataframe tbody tr th {\n",
       "        vertical-align: top;\n",
       "    }\n",
       "\n",
       "    .dataframe thead th {\n",
       "        text-align: right;\n",
       "    }\n",
       "</style>\n",
       "<table border=\"1\" class=\"dataframe\">\n",
       "  <thead>\n",
       "    <tr style=\"text-align: right;\">\n",
       "      <th></th>\n",
       "      <th>k</th>\n",
       "      <th>xk</th>\n",
       "      <th>f(xk)</th>\n",
       "      <th>stepk</th>\n",
       "    </tr>\n",
       "  </thead>\n",
       "  <tbody>\n",
       "  </tbody>\n",
       "</table>\n",
       "</div>"
      ],
      "text/plain": [
       "Empty DataFrame\n",
       "Columns: [k, xk, f(xk), stepk]\n",
       "Index: []"
      ]
     },
     "execution_count": 34,
     "metadata": {},
     "output_type": "execute_result"
    }
   ],
   "source": [
    "df"
   ]
  },
  {
   "cell_type": "code",
   "execution_count": 36,
   "metadata": {},
   "outputs": [],
   "source": [
    "df.loc[0] = [0, 0.5, equation_one(0.5), 'bisseccao']"
   ]
  },
  {
   "cell_type": "code",
   "execution_count": 37,
   "metadata": {},
   "outputs": [
    {
     "data": {
      "text/html": [
       "<div>\n",
       "<style scoped>\n",
       "    .dataframe tbody tr th:only-of-type {\n",
       "        vertical-align: middle;\n",
       "    }\n",
       "\n",
       "    .dataframe tbody tr th {\n",
       "        vertical-align: top;\n",
       "    }\n",
       "\n",
       "    .dataframe thead th {\n",
       "        text-align: right;\n",
       "    }\n",
       "</style>\n",
       "<table border=\"1\" class=\"dataframe\">\n",
       "  <thead>\n",
       "    <tr style=\"text-align: right;\">\n",
       "      <th></th>\n",
       "      <th>k</th>\n",
       "      <th>xk</th>\n",
       "      <th>f(xk)</th>\n",
       "      <th>stepk</th>\n",
       "    </tr>\n",
       "  </thead>\n",
       "  <tbody>\n",
       "    <tr>\n",
       "      <th>0</th>\n",
       "      <td>0</td>\n",
       "      <td>0.5</td>\n",
       "      <td>0.303265</td>\n",
       "      <td>bisseccao</td>\n",
       "    </tr>\n",
       "  </tbody>\n",
       "</table>\n",
       "</div>"
      ],
      "text/plain": [
       "   k   xk     f(xk)      stepk\n",
       "0  0  0.5  0.303265  bisseccao"
      ]
     },
     "execution_count": 37,
     "metadata": {},
     "output_type": "execute_result"
    }
   ],
   "source": [
    "df"
   ]
  },
  {
   "cell_type": "code",
   "execution_count": null,
   "metadata": {},
   "outputs": [],
   "source": []
  }
 ],
 "metadata": {
  "kernelspec": {
   "display_name": "Python 3.9.13 ('base')",
   "language": "python",
   "name": "python3"
  },
  "language_info": {
   "codemirror_mode": {
    "name": "ipython",
    "version": 3
   },
   "file_extension": ".py",
   "mimetype": "text/x-python",
   "name": "python",
   "nbconvert_exporter": "python",
   "pygments_lexer": "ipython3",
   "version": "3.9.13"
  },
  "orig_nbformat": 4,
  "vscode": {
   "interpreter": {
    "hash": "5fcb27bd1d8dab5fbcfc3d8156b90ad467145f1b75a276166bff0e4f18f5c60e"
   }
  }
 },
 "nbformat": 4,
 "nbformat_minor": 2
}
