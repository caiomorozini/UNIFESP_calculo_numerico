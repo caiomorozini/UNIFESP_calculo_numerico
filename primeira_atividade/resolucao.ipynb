{
 "cells": [
  {
   "cell_type": "markdown",
   "metadata": {},
   "source": [
    "Faça o seu gráfico utilizando recursos computacionais.\n",
    "• Aplique o código implementado do Método de Newton adotando os pontos iniciais indicados\n",
    "em cada caso, tomando ε = 10−8\n",
    "\n",
    "e maxit = 20 .\n",
    "\n",
    "• Imprima a tabela referente aos resultados de cada iteração, conforme as instruções.\n",
    "\n",
    "• A partir dos gráficos, de argumentos matemáticos e/ou dos resultados exibidos nas tabelas, ex-\n",
    "plique o comportamento do Método de Newton para cada ponto inicial dado."
   ]
  },
  {
   "cell_type": "code",
   "execution_count": 32,
   "metadata": {},
   "outputs": [],
   "source": [
    "import numpy as np\n",
    "import pandas as pd"
   ]
  },
  {
   "cell_type": "code",
   "execution_count": 72,
   "metadata": {},
   "outputs": [],
   "source": [
    "equation_one = lambda x: x*(np.exp(-x))\n",
    "deriv_equation_one = lambda x: np.exp(-x) - x*np.exp(-x)\n",
    "\n",
    "equation_two = lambda x: x**3 - x - 3\n",
    "deriv_equation_two = lambda x: 3*x**2 - 1\n",
    "\n",
    "equation_three = lambda x: np.arctan(x)\n",
    "deriv_equation_three = lambda x: 1/(x**2 + 1)"
   ]
  },
  {
   "cell_type": "markdown",
   "metadata": {},
   "source": [
    "### Método da Bisseção"
   ]
  },
  {
   "cell_type": "code",
   "execution_count": 18,
   "metadata": {},
   "outputs": [],
   "source": [
    "MAXIT = 20\n",
    "TOL = 10**(-8)"
   ]
  },
  {
   "cell_type": "code",
   "execution_count": 81,
   "metadata": {},
   "outputs": [],
   "source": [
    "def newton_method(\n",
    "  f: callable,\n",
    "  f_linha: callable,\n",
    "  x0: float,\n",
    "  maxit: int = MAXIT,\n",
    "  tol: float = TOL\n",
    "):\n",
    "  \"\"\" Método de Newton para encontrar raízes de funções\n",
    "\n",
    "  Args:\n",
    "    f (callable): função a ser analisada\n",
    "    f_linha (float): derivada da função\n",
    "    x0 (float): chute inicial\n",
    "    maxit (int, optional): número máximo de iterações. Defaults to MAXIT.\n",
    "    tol (float, optional): tolerância. Defaults to TOL.\n",
    "\n",
    "  Returns:\n",
    "    dataframe: tabela com os resultados\n",
    "  \"\"\"\n",
    "  df = pd.DataFrame(columns=['x', 'f(x)', 'f_linha(x)', 'x - x0'])\n",
    "  x = x0\n",
    "  for i in range(maxit):\n",
    "    df.loc[i] = [x, f(x), f_linha(x), x - x0]\n",
    "    if np.abs(f(x)) < tol:\n",
    "      return df\n",
    "    x = x - f(x)/f_linha(x)\n",
    "  return df"
   ]
  },
  {
   "cell_type": "code",
   "execution_count": 77,
   "metadata": {},
   "outputs": [],
   "source": [
    "def bisseccao(\n",
    "  f: callable,\n",
    "  a: float,\n",
    "  b: float,\n",
    "  maxit: int = MAXIT,\n",
    "  tol: float = TOL\n",
    "):\n",
    "  \"\"\" Método da bisseccao para encontrar raízes de funções\n",
    "\n",
    "  Args:\n",
    "    f (callable): função a ser analisada\n",
    "    a (float):  limite inferior\n",
    "    b (float): limite superior\n",
    "    maxit (int, optional): número máximo de iterações. Defaults to MAXIT.\n",
    "    tol (float, optional): tolerância. Defaults to TOL.\n",
    "\n",
    "  Returns:\n",
    "    float: raiz da função\n",
    "  \"\"\"\n",
    "\n",
    "  df = pd.DataFrame(columns=['k', 'x', 'f(x)', 'x - x0'])\n",
    "\n",
    "  for i in range(maxit):\n",
    "    x = (a + b)/2\n",
    "    df.loc[i] = [i, x, f(x), x - a]\n",
    "    if np.abs(f(x)) < tol:\n",
    "      return df\n",
    "    if f(a)*f(x) < 0:\n",
    "      b = x\n",
    "    else:\n",
    "      a = x\n",
    "  return df\n"
   ]
  },
  {
   "cell_type": "code",
   "execution_count": 83,
   "metadata": {},
   "outputs": [],
   "source": [
    "def secant_method(\n",
    "    f,\n",
    "    x0,\n",
    "    x02,\n",
    "    tol = TOL,\n",
    "    max_it = MAXIT\n",
    "):\n",
    "    \"\"\" Método da secante para encontrar raízes de funções\n",
    "\n",
    "    Args:\n",
    "        f (callable): função a ser analisada\n",
    "        x0 (float): chute inicial\n",
    "        x02 (float): chute inicial\n",
    "        tol (float, optional): tolerância. Defaults to TOL.\n",
    "        maxit (int, optional): número máximo de iterações. Defaults to MAXIT.\n",
    "\n",
    "    Returns:\n",
    "        float: raiz da função\n",
    "    \"\"\"\n",
    "    df = pd.DataFrame(columns=['xk', 'f(xk)', 'stepk'])\n",
    "    for k in range(max_it):\n",
    "        xk = x0 - f(x0)*(x0-x02)/(f(x0)-f(x02))\n",
    "        if abs(f(xk)) < tol:\n",
    "            break\n",
    "        x02 = x0\n",
    "        x0 = xk\n",
    "        df.loc[k] = [xk, f(xk), x0-x02]\n",
    "    return df\n"
   ]
  },
  {
   "cell_type": "code",
   "execution_count": 84,
   "metadata": {},
   "outputs": [],
   "source": [
    "newton_equation_one = newton_method(equation_one, deriv_equation_one, 0.5)\n"
   ]
  },
  {
   "cell_type": "code",
   "execution_count": 85,
   "metadata": {},
   "outputs": [
    {
     "data": {
      "text/html": [
       "<div>\n",
       "<style scoped>\n",
       "    .dataframe tbody tr th:only-of-type {\n",
       "        vertical-align: middle;\n",
       "    }\n",
       "\n",
       "    .dataframe tbody tr th {\n",
       "        vertical-align: top;\n",
       "    }\n",
       "\n",
       "    .dataframe thead th {\n",
       "        text-align: right;\n",
       "    }\n",
       "</style>\n",
       "<table border=\"1\" class=\"dataframe\">\n",
       "  <thead>\n",
       "    <tr style=\"text-align: right;\">\n",
       "      <th></th>\n",
       "      <th>x</th>\n",
       "      <th>f(x)</th>\n",
       "      <th>f_linha(x)</th>\n",
       "      <th>x - x0</th>\n",
       "    </tr>\n",
       "  </thead>\n",
       "  <tbody>\n",
       "    <tr>\n",
       "      <th>0</th>\n",
       "      <td>2.000000</td>\n",
       "      <td>2.706706e-01</td>\n",
       "      <td>-1.353353e-01</td>\n",
       "      <td>0.000000</td>\n",
       "    </tr>\n",
       "    <tr>\n",
       "      <th>1</th>\n",
       "      <td>4.000000</td>\n",
       "      <td>7.326256e-02</td>\n",
       "      <td>-5.494692e-02</td>\n",
       "      <td>2.000000</td>\n",
       "    </tr>\n",
       "    <tr>\n",
       "      <th>2</th>\n",
       "      <td>5.333333</td>\n",
       "      <td>2.574907e-02</td>\n",
       "      <td>-2.092112e-02</td>\n",
       "      <td>3.333333</td>\n",
       "    </tr>\n",
       "    <tr>\n",
       "      <th>3</th>\n",
       "      <td>6.564103</td>\n",
       "      <td>9.255968e-03</td>\n",
       "      <td>-7.845879e-03</td>\n",
       "      <td>4.564103</td>\n",
       "    </tr>\n",
       "    <tr>\n",
       "      <th>4</th>\n",
       "      <td>7.743826</td>\n",
       "      <td>3.356253e-03</td>\n",
       "      <td>-2.922843e-03</td>\n",
       "      <td>5.743826</td>\n",
       "    </tr>\n",
       "    <tr>\n",
       "      <th>5</th>\n",
       "      <td>8.892110</td>\n",
       "      <td>1.222392e-03</td>\n",
       "      <td>-1.084923e-03</td>\n",
       "      <td>6.892110</td>\n",
       "    </tr>\n",
       "    <tr>\n",
       "      <th>6</th>\n",
       "      <td>10.018819</td>\n",
       "      <td>4.463740e-04</td>\n",
       "      <td>-4.018204e-04</td>\n",
       "      <td>8.018819</td>\n",
       "    </tr>\n",
       "    <tr>\n",
       "      <th>7</th>\n",
       "      <td>11.129698</td>\n",
       "      <td>1.632740e-04</td>\n",
       "      <td>-1.486039e-04</td>\n",
       "      <td>9.129698</td>\n",
       "    </tr>\n",
       "    <tr>\n",
       "      <th>8</th>\n",
       "      <td>12.228418</td>\n",
       "      <td>5.979102e-05</td>\n",
       "      <td>-5.490151e-05</td>\n",
       "      <td>10.228418</td>\n",
       "    </tr>\n",
       "    <tr>\n",
       "      <th>9</th>\n",
       "      <td>13.317477</td>\n",
       "      <td>2.191367e-05</td>\n",
       "      <td>-2.026819e-05</td>\n",
       "      <td>11.317477</td>\n",
       "    </tr>\n",
       "    <tr>\n",
       "      <th>10</th>\n",
       "      <td>14.398663</td>\n",
       "      <td>8.036415e-06</td>\n",
       "      <td>-7.478279e-06</td>\n",
       "      <td>12.398663</td>\n",
       "    </tr>\n",
       "    <tr>\n",
       "      <th>11</th>\n",
       "      <td>15.473297</td>\n",
       "      <td>2.948596e-06</td>\n",
       "      <td>-2.758036e-06</td>\n",
       "      <td>13.473297</td>\n",
       "    </tr>\n",
       "    <tr>\n",
       "      <th>12</th>\n",
       "      <td>16.542390</td>\n",
       "      <td>1.082255e-06</td>\n",
       "      <td>-1.016832e-06</td>\n",
       "      <td>14.542390</td>\n",
       "    </tr>\n",
       "    <tr>\n",
       "      <th>13</th>\n",
       "      <td>17.606730</td>\n",
       "      <td>3.973498e-07</td>\n",
       "      <td>-3.747818e-07</td>\n",
       "      <td>15.606730</td>\n",
       "    </tr>\n",
       "    <tr>\n",
       "      <th>14</th>\n",
       "      <td>18.666947</td>\n",
       "      <td>1.459222e-07</td>\n",
       "      <td>-1.381051e-07</td>\n",
       "      <td>16.666947</td>\n",
       "    </tr>\n",
       "    <tr>\n",
       "      <th>15</th>\n",
       "      <td>19.723549</td>\n",
       "      <td>5.359896e-08</td>\n",
       "      <td>-5.088145e-08</td>\n",
       "      <td>17.723549</td>\n",
       "    </tr>\n",
       "    <tr>\n",
       "      <th>16</th>\n",
       "      <td>20.776958</td>\n",
       "      <td>1.969082e-08</td>\n",
       "      <td>-1.874309e-08</td>\n",
       "      <td>18.776958</td>\n",
       "    </tr>\n",
       "    <tr>\n",
       "      <th>17</th>\n",
       "      <td>21.827522</td>\n",
       "      <td>7.234892e-09</td>\n",
       "      <td>-6.903435e-09</td>\n",
       "      <td>19.827522</td>\n",
       "    </tr>\n",
       "  </tbody>\n",
       "</table>\n",
       "</div>"
      ],
      "text/plain": [
       "            x          f(x)    f_linha(x)     x - x0\n",
       "0    2.000000  2.706706e-01 -1.353353e-01   0.000000\n",
       "1    4.000000  7.326256e-02 -5.494692e-02   2.000000\n",
       "2    5.333333  2.574907e-02 -2.092112e-02   3.333333\n",
       "3    6.564103  9.255968e-03 -7.845879e-03   4.564103\n",
       "4    7.743826  3.356253e-03 -2.922843e-03   5.743826\n",
       "5    8.892110  1.222392e-03 -1.084923e-03   6.892110\n",
       "6   10.018819  4.463740e-04 -4.018204e-04   8.018819\n",
       "7   11.129698  1.632740e-04 -1.486039e-04   9.129698\n",
       "8   12.228418  5.979102e-05 -5.490151e-05  10.228418\n",
       "9   13.317477  2.191367e-05 -2.026819e-05  11.317477\n",
       "10  14.398663  8.036415e-06 -7.478279e-06  12.398663\n",
       "11  15.473297  2.948596e-06 -2.758036e-06  13.473297\n",
       "12  16.542390  1.082255e-06 -1.016832e-06  14.542390\n",
       "13  17.606730  3.973498e-07 -3.747818e-07  15.606730\n",
       "14  18.666947  1.459222e-07 -1.381051e-07  16.666947\n",
       "15  19.723549  5.359896e-08 -5.088145e-08  17.723549\n",
       "16  20.776958  1.969082e-08 -1.874309e-08  18.776958\n",
       "17  21.827522  7.234892e-09 -6.903435e-09  19.827522"
      ]
     },
     "execution_count": 85,
     "metadata": {},
     "output_type": "execute_result"
    }
   ],
   "source": [
    "newton_equation_one = newton_method(equation_one, x0=2, f_linha=deriv_equation_one)\n",
    "newton_equation_one"
   ]
  },
  {
   "cell_type": "code",
   "execution_count": 64,
   "metadata": {},
   "outputs": [],
   "source": [
    "import seaborn as sns\n"
   ]
  },
  {
   "cell_type": "code",
   "execution_count": 67,
   "metadata": {},
   "outputs": [
    {
     "data": {
      "text/plain": [
       "<AxesSubplot:xlabel='xk', ylabel='f(xk)'>"
      ]
     },
     "execution_count": 67,
     "metadata": {},
     "output_type": "execute_result"
    },
    {
     "data": {
      "image/png": "[encoded data removed]",
      "text/plain": [
       "<Figure size 640x480 with 1 Axes>"
      ]
     },
     "metadata": {},
     "output_type": "display_data"
    }
   ],
   "source": [
    "sns.lineplot(data=secant_equation_one, x='xk', y='f(xk)')"
   ]
  },
  {
   "cell_type": "code",
   "execution_count": 62,
   "metadata": {},
   "outputs": [
    {
     "data": {
      "text/plain": [
       "<AxesSubplot:xlabel='k', ylabel='stepk'>"
      ]
     },
     "execution_count": 62,
     "metadata": {},
     "output_type": "execute_result"
    },
    {
     "data": {
      "image/png": "[encoded data removed]",
      "text/plain": [
       "<Figure size 640x480 with 1 Axes>"
      ]
     },
     "metadata": {},
     "output_type": "display_data"
    }
   ],
   "source": [
    "sns.lineplot(data=kkkkk, x='k', y='stepk')"
   ]
  },
  {
   "cell_type": "code",
   "execution_count": 36,
   "metadata": {},
   "outputs": [],
   "source": [
    "df.loc[0] = [0, 0.5, equation_one(0.5), 'bisseccao']"
   ]
  },
  {
   "cell_type": "code",
   "execution_count": 37,
   "metadata": {},
   "outputs": [
    {
     "data": {
      "text/html": [
       "<div>\n",
       "<style scoped>\n",
       "    .dataframe tbody tr th:only-of-type {\n",
       "        vertical-align: middle;\n",
       "    }\n",
       "\n",
       "    .dataframe tbody tr th {\n",
       "        vertical-align: top;\n",
       "    }\n",
       "\n",
       "    .dataframe thead th {\n",
       "        text-align: right;\n",
       "    }\n",
       "</style>\n",
       "<table border=\"1\" class=\"dataframe\">\n",
       "  <thead>\n",
       "    <tr style=\"text-align: right;\">\n",
       "      <th></th>\n",
       "      <th>k</th>\n",
       "      <th>xk</th>\n",
       "      <th>f(xk)</th>\n",
       "      <th>stepk</th>\n",
       "    </tr>\n",
       "  </thead>\n",
       "  <tbody>\n",
       "    <tr>\n",
       "      <th>0</th>\n",
       "      <td>0</td>\n",
       "      <td>0.5</td>\n",
       "      <td>0.303265</td>\n",
       "      <td>bisseccao</td>\n",
       "    </tr>\n",
       "  </tbody>\n",
       "</table>\n",
       "</div>"
      ],
      "text/plain": [
       "   k   xk     f(xk)      stepk\n",
       "0  0  0.5  0.303265  bisseccao"
      ]
     },
     "execution_count": 37,
     "metadata": {},
     "output_type": "execute_result"
    }
   ],
   "source": [
    "df"
   ]
  },
  {
   "cell_type": "code",
   "execution_count": null,
   "metadata": {},
   "outputs": [],
   "source": []
  }
 ],
 "metadata": {
  "kernelspec": {
   "display_name": "Python 3.9.13 ('base')",
   "language": "python",
   "name": "python3"
  },
  "language_info": {
   "codemirror_mode": {
    "name": "ipython",
    "version": 3
   },
   "file_extension": ".py",
   "mimetype": "text/x-python",
   "name": "python",
   "nbconvert_exporter": "python",
   "pygments_lexer": "ipython3",
   "version": "3.9.13"
  },
  "orig_nbformat": 4,
  "vscode": {
   "interpreter": {
    "hash": "5fcb27bd1d8dab5fbcfc3d8156b90ad467145f1b75a276166bff0e4f18f5c60e"
   }
  }
 },
 "nbformat": 4,
 "nbformat_minor": 2
}
